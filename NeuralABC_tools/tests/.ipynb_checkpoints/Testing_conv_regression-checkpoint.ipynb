{
 "cells": [
  {
   "cell_type": "code",
   "execution_count": 14,
   "metadata": {},
   "outputs": [],
   "source": [
    "import pandas as pd\n",
    "import sys\n",
    "sys.path.append(\"..\")\n",
    "import conv_functions as cnvf"
   ]
  },
  {
   "cell_type": "code",
   "execution_count": 15,
   "metadata": {},
   "outputs": [],
   "source": [
    "#Generate some data\n",
    "x = pd.DataFrame([[1,6],[3,3],[6,9],[5,8],[4,9],[5,6]], columns=[\"var1\", \"var2\"])\n",
    "\n",
    "y = [4,9,6,7,7,8]\n",
    "\n",
    "age = [22,24,25,22,26,21]"
   ]
  },
  {
   "cell_type": "code",
   "execution_count": 18,
   "metadata": {},
   "outputs": [
    {
     "name": "stdout",
     "output_type": "stream",
     "text": [
      "__________________________________\n",
      "Converting your data to pandas dataframes\n",
      "__________________________________\n",
      "Starting Regression\n",
      "__________________________________\n",
      "Done regression, saving output to dict\n",
      "_______________________________________\n"
     ]
    }
   ],
   "source": [
    "#run regression on 2 IV columns\n",
    "simple_regression = cnvf.linreg(x,y)"
   ]
  },
  {
   "cell_type": "code",
   "execution_count": 19,
   "metadata": {},
   "outputs": [
    {
     "data": {
      "text/plain": [
       "['corr_coefs', 'r_squared', 'reg_coefs', 'p_values', 't_values', 'residuals']"
      ]
     },
     "metadata": {},
     "output_type": "display_data"
    },
    {
     "data": {
      "text/plain": [
       "{'var1': [0.3894680901671225], 'var2': [-0.40934372631395655]}"
      ]
     },
     "metadata": {},
     "output_type": "display_data"
    }
   ],
   "source": [
    "#see the options you can get from results\n",
    "display(list(simple_regression.keys()))\n",
    "#call whatever you want from the output (r2, b, p, t, residuals) based on the keys from the line before\n",
    "display(simple_regression[\"corr_coefs\"])"
   ]
  },
  {
   "cell_type": "code",
   "execution_count": 20,
   "metadata": {},
   "outputs": [
    {
     "name": "stdout",
     "output_type": "stream",
     "text": [
      "__________________________________\n",
      "Converting your data to pandas dataframes\n",
      "__________________________________\n",
      "Starting Regression\n",
      "__________________________________\n",
      "Done regression, saving output to dict\n",
      "_______________________________________\n"
     ]
    }
   ],
   "source": [
    "multiple_regression_w_covariate = cnvf.linreg(x,y, age)"
   ]
  },
  {
   "cell_type": "code",
   "execution_count": 21,
   "metadata": {},
   "outputs": [
    {
     "data": {
      "text/plain": [
       "['corr_coefs', 'r_squared', 'reg_coefs', 'p_values', 't_values', 'residuals']"
      ]
     },
     "metadata": {},
     "output_type": "display_data"
    },
    {
     "data": {
      "text/plain": [
       "{'var1': [0.37291897891231873], 'var2': [-0.3761127596439175]}"
      ]
     },
     "metadata": {},
     "output_type": "display_data"
    }
   ],
   "source": [
    "#see the options you can get from results\n",
    "display(list(multiple_regression_w_covariate.keys()))\n",
    "#call whatever you want from the output (r2, b, p, t, residuals) based on the keys from the line before\n",
    "display(multiple_regression_w_covariate[\"reg_coefs\"])"
   ]
  },
  {
   "cell_type": "code",
   "execution_count": 22,
   "metadata": {},
   "outputs": [
    {
     "name": "stdout",
     "output_type": "stream",
     "text": [
      "__________________________________\n",
      "Converting your data to pandas dataframes\n",
      "__________________________________\n",
      "Starting Regression\n",
      "__________________________________\n",
      "working on ---> var1\n",
      "Finished ---> var1\n",
      "__________________________________\n",
      "working on ---> var2\n",
      "Finished ---> var2\n",
      "__________________________________\n",
      "Done regression, saving output to dict\n",
      "_______________________________________\n",
      "Your regression analysis took 0.0 minutes\n",
      "=========================================================\n"
     ]
    }
   ],
   "source": [
    "#if you are interested in what is going on\n",
    "multiple_regression_w_covariate_interested = cnvf.linreg(x,y,age, verbose=3)"
   ]
  },
  {
   "cell_type": "code",
   "execution_count": 23,
   "metadata": {},
   "outputs": [
    {
     "data": {
      "text/plain": [
       "['corr_coefs', 'r_squared', 'reg_coefs', 'p_values', 't_values', 'residuals']"
      ]
     },
     "metadata": {},
     "output_type": "display_data"
    },
    {
     "data": {
      "text/plain": [
       "{'var1': [0.37291897891231873], 'var2': [-0.3761127596439175]}"
      ]
     },
     "metadata": {},
     "output_type": "display_data"
    }
   ],
   "source": [
    "#see the options you can get from results\n",
    "display(list(multiple_regression_w_covariate_interested.keys()))\n",
    "#call whatever you want from the output (r2, b, p, t, residuals) based on the keys from the line before\n",
    "display(multiple_regression_w_covariate_interested[\"reg_coefs\"])"
   ]
  }
 ],
 "metadata": {
  "kernelspec": {
   "display_name": "Python 3",
   "language": "python",
   "name": "python3"
  },
  "language_info": {
   "codemirror_mode": {
    "name": "ipython",
    "version": 3
   },
   "file_extension": ".py",
   "mimetype": "text/x-python",
   "name": "python",
   "nbconvert_exporter": "python",
   "pygments_lexer": "ipython3",
   "version": "3.8.5"
  }
 },
 "nbformat": 4,
 "nbformat_minor": 4
}
